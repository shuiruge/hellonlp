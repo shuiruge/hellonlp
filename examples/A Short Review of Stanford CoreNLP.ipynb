{
 "cells": [
  {
   "cell_type": "markdown",
   "metadata": {},
   "source": [
    "# A Short Review of Stanford CoreNLP"
   ]
  },
  {
   "cell_type": "markdown",
   "metadata": {},
   "source": [
    "## Pipeline and Annotations"
   ]
  },
  {
   "cell_type": "markdown",
   "metadata": {},
   "source": [
    "![pipeline](https://stanfordnlp.github.io/CoreNLP/images/AnnotationPipeline.png)"
   ]
  },
  {
   "cell_type": "markdown",
   "metadata": {},
   "source": [
    "* Stanford CoreNLP is written in Java.\n",
    "\n",
    "* With its Java server running, a Python client, provided by NLTK, can interact with the server, parsing the output strings into Python objects.\n",
    "\n",
    "* Sadly, the parser is quite imcomplete.\n",
    "\n",
    "* In production, NLTK is not prefered, for both efficiency and accuracy aspects.\n",
    "\n",
    "* And we'd use CoreNLP, in Java."
   ]
  },
  {
   "cell_type": "code",
   "execution_count": 5,
   "metadata": {},
   "outputs": [
    {
     "name": "stdout",
     "output_type": "stream",
     "text": [
      "Requirement already satisfied: nltk in /home/apps/anaconda3/lib/python3.6/site-packages (3.4)\r\n",
      "Requirement already satisfied: six in /home/apps/anaconda3/lib/python3.6/site-packages (from nltk) (1.12.0)\r\n",
      "Requirement already satisfied: singledispatch in /home/apps/anaconda3/lib/python3.6/site-packages (from nltk) (3.4.0.3)\r\n"
     ]
    }
   ],
   "source": [
    "!pip install nltk"
   ]
  },
  {
   "cell_type": "code",
   "execution_count": 1,
   "metadata": {},
   "outputs": [
    {
     "name": "stdout",
     "output_type": "stream",
     "text": [
      "CoreNLPDependencyParser\n",
      "CoreNLPParser\n",
      "CoreNLPServer\n",
      "CoreNLPServerError\n",
      "DependencyGraph\n",
      "GenericCoreNLPParser\n",
      "ParserI\n",
      "TaggerI\n",
      "TokenizerI\n",
      "Tree\n",
      "config_java\n",
      "find_jar_iter\n",
      "java\n",
      "json\n",
      "re\n",
      "setup_module\n",
      "skip\n",
      "socket\n",
      "teardown_module\n",
      "time\n",
      "transform\n",
      "try_port\n",
      "unicode_literals\n"
     ]
    }
   ],
   "source": [
    "# As you see, NLTK is quite imcomplete:\n",
    "\n",
    "import nltk\n",
    "\n",
    "for attr in dir(nltk.parse.corenlp):\n",
    "    if not attr.startswith('_'):  # being public.\n",
    "        print(attr)"
   ]
  },
  {
   "cell_type": "markdown",
   "metadata": {},
   "source": [
    "### References\n",
    "1. [NLTK wrapper for Stanford CoreNLP](https://github.com/nltk/nltk/wiki/Stanford-CoreNLP-API-in-NLTK)"
   ]
  },
  {
   "cell_type": "markdown",
   "metadata": {},
   "source": [
    "## Contents from arXiv"
   ]
  },
  {
   "cell_type": "markdown",
   "metadata": {},
   "source": [
    "First, we fetch some contents from [arXiv](www.arxiv.org), providing examples for later NLPs."
   ]
  },
  {
   "cell_type": "code",
   "execution_count": 7,
   "metadata": {},
   "outputs": [
    {
     "name": "stdout",
     "output_type": "stream",
     "text": [
      "Requirement already satisfied: arxiv in /home/apps/anaconda3/lib/python3.6/site-packages (0.3.1)\n",
      "Requirement already satisfied: feedparser in /home/apps/anaconda3/lib/python3.6/site-packages (from arxiv) (5.2.1)\n",
      "Requirement already satisfied: requests in /home/apps/anaconda3/lib/python3.6/site-packages (from arxiv) (2.21.0)\n",
      "Requirement already satisfied: idna<2.9,>=2.5 in /home/apps/anaconda3/lib/python3.6/site-packages (from requests->arxiv) (2.8)\n",
      "Requirement already satisfied: certifi>=2017.4.17 in /home/apps/anaconda3/lib/python3.6/site-packages (from requests->arxiv) (2018.11.29)\n",
      "Requirement already satisfied: urllib3<1.25,>=1.21.1 in /home/apps/anaconda3/lib/python3.6/site-packages (from requests->arxiv) (1.24.1)\n",
      "Requirement already satisfied: chardet<3.1.0,>=3.0.2 in /home/apps/anaconda3/lib/python3.6/site-packages (from requests->arxiv) (3.0.4)\n"
     ]
    }
   ],
   "source": [
    "!pip install arxiv"
   ]
  },
  {
   "cell_type": "code",
   "execution_count": 2,
   "metadata": {},
   "outputs": [
    {
     "name": "stdout",
     "output_type": "stream",
     "text": [
      "We show a representation of Quantum Computers defines Quantum Turing Machines with associated Quantum Grammars. We then create examples of Quantum Grammars. Lastly we develop an algebraic approach to high level Quantum Languages using Quantum Assembly language and Quantum C language as examples.\n"
     ]
    }
   ],
   "source": [
    "import arxiv\n",
    "\n",
    "papers = arxiv.query(search_query=\"quantum\")\n",
    "\n",
    "def get_summary(paper):\n",
    "    return paper['summary'].replace('\\n', ' ')\n",
    "\n",
    "summary = get_summary(papers[0])\n",
    "print(summary)"
   ]
  },
  {
   "cell_type": "markdown",
   "metadata": {},
   "source": [
    "## Sentence Splitting & Word Tokenizing"
   ]
  },
  {
   "cell_type": "markdown",
   "metadata": {},
   "source": [
    "For simplicity, we employ the functions from NLTK, instead of from CoreNLP."
   ]
  },
  {
   "cell_type": "code",
   "execution_count": 3,
   "metadata": {},
   "outputs": [],
   "source": [
    "from nltk import sent_tokenize, word_tokenize"
   ]
  },
  {
   "cell_type": "code",
   "execution_count": 4,
   "metadata": {},
   "outputs": [
    {
     "name": "stdout",
     "output_type": "stream",
     "text": [
      "0.  We show a representation of Quantum Computers defines Quantum Turing Machines with associated Quantum Grammars.\n",
      "\n",
      "1.  We then create examples of Quantum Grammars.\n",
      "\n",
      "2.  Lastly we develop an algebraic approach to high level Quantum Languages using Quantum Assembly language and Quantum C language as examples.\n",
      "\n"
     ]
    }
   ],
   "source": [
    "sentences = sent_tokenize(summary)\n",
    "for i, sentence in enumerate(sentences):\n",
    "    print('{0}.  {1}\\n'.format(i, sentence))"
   ]
  },
  {
   "cell_type": "code",
   "execution_count": 5,
   "metadata": {},
   "outputs": [
    {
     "name": "stdout",
     "output_type": "stream",
     "text": [
      "['We', 'show', 'a', 'representation', 'of', 'Quantum', 'Computers', 'defines', 'Quantum', 'Turing', 'Machines', 'with', 'associated', 'Quantum', 'Grammars', '.']\n"
     ]
    }
   ],
   "source": [
    "print(word_tokenize(sentences[0]))"
   ]
  },
  {
   "cell_type": "markdown",
   "metadata": {},
   "source": [
    "## Syntactic Parsing"
   ]
  },
  {
   "cell_type": "markdown",
   "metadata": {},
   "source": [
    "Syntactic parsing involves:\n",
    "1. part-of-speech (PoS) tagging,\n",
    "1. (implictly) lemma,\n",
    "1. (implictly) named entity recognization (NER), and\n",
    "1. chunking."
   ]
  },
  {
   "cell_type": "markdown",
   "metadata": {},
   "source": [
    "Syntactic parsing returns a tree, with the innermost subtrees the PoS tags, and others the chunks."
   ]
  },
  {
   "cell_type": "code",
   "execution_count": 6,
   "metadata": {},
   "outputs": [],
   "source": [
    "from typing import List\n",
    "from nltk.tree import Tree\n",
    "from nltk.parse.corenlp import CoreNLPParser"
   ]
  },
  {
   "cell_type": "code",
   "execution_count": 7,
   "metadata": {},
   "outputs": [],
   "source": [
    "def syn_parse(syn_parser: CoreNLPParser,\n",
    "              sentence: str,\n",
    "              ) -> List[Tree]:\n",
    "    \"\"\"Syntactic parsing.\"\"\"\n",
    "    words = word_tokenize(sentence)\n",
    "    return list(syn_parser.parse(words))"
   ]
  },
  {
   "cell_type": "code",
   "execution_count": 8,
   "metadata": {},
   "outputs": [],
   "source": [
    "def display_syn_parse(syn_parser, sentence):\n",
    "    print(sentence, '\\n')\n",
    "    for tree in syn_parse(syn_parser, sentence):\n",
    "        print(tree, '\\n')"
   ]
  },
  {
   "cell_type": "markdown",
   "metadata": {},
   "source": [
    "Before running this script, run:\n",
    "\n",
    "    java -mx4g -cp * edu.stanford.nlp.pipeline.StanfordCoreNLPServer \\\n",
    "         -port 9000 \\\n",
    "         -timeout 300000 \\\n",
    "         -threads 4 \\\n",
    "         -preload tokenize,ssplit,pos,lemma,ner,parse,depparse \\\n",
    "         --add-modules java.se.ee\n",
    "\n",
    "in the directory of the stanford-corenlp Java package, to start up the\n",
    "Stanford CoreNLP server."
   ]
  },
  {
   "cell_type": "code",
   "execution_count": 9,
   "metadata": {},
   "outputs": [],
   "source": [
    "syn_parser = CoreNLPParser()"
   ]
  },
  {
   "cell_type": "code",
   "execution_count": 10,
   "metadata": {},
   "outputs": [
    {
     "name": "stdout",
     "output_type": "stream",
     "text": [
      "We show a representation of Quantum Computers defines Quantum Turing Machines with associated Quantum Grammars. \n",
      "\n",
      "(ROOT\n",
      "  (S\n",
      "    (NP (PRP We))\n",
      "    (VP\n",
      "      (VBP show)\n",
      "      (SBAR\n",
      "        (S\n",
      "          (NP\n",
      "            (NP (DT a) (NN representation))\n",
      "            (PP (IN of) (NP (NNP Quantum) (NNP Computers))))\n",
      "          (VP\n",
      "            (VBZ defines)\n",
      "            (NP\n",
      "              (NP (NNP Quantum) (NNP Turing) (NNPS Machines))\n",
      "              (PP\n",
      "                (IN with)\n",
      "                (S\n",
      "                  (VP\n",
      "                    (VBN associated)\n",
      "                    (NP (NNP Quantum) (NNP Grammars))))))))))\n",
      "    (. .))) \n",
      "\n"
     ]
    }
   ],
   "source": [
    "display_syn_parse(syn_parser, sentences[0])"
   ]
  },
  {
   "cell_type": "code",
   "execution_count": 11,
   "metadata": {},
   "outputs": [
    {
     "name": "stdout",
     "output_type": "stream",
     "text": [
      "We then create examples of Quantum Grammars. \n",
      "\n",
      "(ROOT\n",
      "  (S\n",
      "    (NP (PRP We))\n",
      "    (ADVP (RB then))\n",
      "    (VP\n",
      "      (VBP create)\n",
      "      (NP\n",
      "        (NP (NNS examples))\n",
      "        (PP (IN of) (NP (NNP Quantum) (NNP Grammars)))))\n",
      "    (. .))) \n",
      "\n"
     ]
    }
   ],
   "source": [
    "display_syn_parse(syn_parser, sentences[1])"
   ]
  },
  {
   "cell_type": "code",
   "execution_count": 12,
   "metadata": {},
   "outputs": [
    {
     "name": "stdout",
     "output_type": "stream",
     "text": [
      "Lastly we develop an algebraic approach to high level Quantum Languages using Quantum Assembly language and Quantum C language as examples. \n",
      "\n",
      "(ROOT\n",
      "  (S\n",
      "    (ADVP (RB Lastly))\n",
      "    (NP (PRP we))\n",
      "    (VP\n",
      "      (VBP develop)\n",
      "      (NP (DT an) (JJ algebraic) (NN approach))\n",
      "      (PP\n",
      "        (TO to)\n",
      "        (NP (JJ high) (NN level) (NNP Quantum) (NNP Languages)))\n",
      "      (S\n",
      "        (VP\n",
      "          (VBG using)\n",
      "          (NP\n",
      "            (NP (NNP Quantum) (NNP Assembly) (NN language))\n",
      "            (CC and)\n",
      "            (NP (NNP Quantum) (NNP C) (NN language)))\n",
      "          (PP (IN as) (NP (NNS examples))))))\n",
      "    (. .))) \n",
      "\n"
     ]
    }
   ],
   "source": [
    "display_syn_parse(syn_parser, sentences[2])"
   ]
  },
  {
   "cell_type": "markdown",
   "metadata": {},
   "source": [
    "### References\n",
    "1. For a complete list of PoS tags, see [Penn Treebank PoS](https://www.ling.upenn.edu/courses/Fall_2003/ling001/penn_treebank_pos.html)"
   ]
  },
  {
   "cell_type": "markdown",
   "metadata": {},
   "source": [
    "## Neural Dependency Parsing"
   ]
  },
  {
   "cell_type": "markdown",
   "metadata": {},
   "source": [
    "For example,\n",
    "    \n",
    "    I shot an elephant in my pajamas.\n",
    "    \n",
    "As a labeled directed graph,\n",
    "\n",
    "![image.png](http://www.nltk.org/images/depgraph0.png)\n",
    "\n",
    "or as a tree,\n",
    "\n",
    "![image.png](http://www.nltk.org/book/tree_images/ch08-tree-10.png)"
   ]
  },
  {
   "cell_type": "code",
   "execution_count": 13,
   "metadata": {},
   "outputs": [],
   "source": [
    "from typing import List\n",
    "from nltk.parse.corenlp import CoreNLPDependencyParser"
   ]
  },
  {
   "cell_type": "code",
   "execution_count": 14,
   "metadata": {},
   "outputs": [],
   "source": [
    "class PosTag:\n",
    "    \"\"\"Auxillary class.\"\"\"\n",
    "    \n",
    "    def __init__(self, word: str, tag: str):\n",
    "        self.word = word\n",
    "        self.tag = tag\n",
    "        \n",
    "    def __repr__(self):\n",
    "        return str((self.tag, self.word))\n",
    "\n",
    "\n",
    "class Dependence:\n",
    "    \"\"\"Auxillary class.\"\"\"\n",
    "    \n",
    "    def __init__(self,\n",
    "                 governor: PosTag,\n",
    "                 relation: str,\n",
    "                 dependent: PosTag):\n",
    "        self.governor = governor\n",
    "        self.relation = relation\n",
    "        self.dependent = dependent\n",
    "        \n",
    "    def __repr__(self):\n",
    "        return '{0}  -->  {1}  -->  {2}'.format(\n",
    "            self.governor.word, self.relation, self.dependent.word)\n",
    "\n",
    "\n",
    "def dep_parse(dep_parser: CoreNLPDependencyParser,\n",
    "              sentence: str,\n",
    "              ) -> List[List[Dependence]]:\n",
    "    \"\"\"Dependency parsing.\"\"\"\n",
    "    words = word_tokenize(sentence)\n",
    "    raw_dep_parses = list(dep_parser.parse(words))\n",
    "    dep_parses = []\n",
    "    for parse in raw_dep_parses:\n",
    "        dependences = []\n",
    "        for governor, relation, dependent in parse.triples():\n",
    "            # Construct dependence\n",
    "            governor_postag = PosTag(governor[0], governor[1])\n",
    "            dependent_postag = PosTag(dependent[0], dependent[1])\n",
    "            dep = Dependence(governor_postag, relation, dependent_postag)\n",
    "            dependences.append(dep)\n",
    "        dep_parses.append(dependences)\n",
    "    return dep_parses"
   ]
  },
  {
   "cell_type": "code",
   "execution_count": 15,
   "metadata": {},
   "outputs": [],
   "source": [
    "def display_dep_parse(dep_parser, sentence):\n",
    "    print(sentence, '\\n')\n",
    "    for _ in dep_parse(dep_parser, sentence):\n",
    "        for dep in _:\n",
    "            print(dep)\n",
    "        print()"
   ]
  },
  {
   "cell_type": "code",
   "execution_count": 16,
   "metadata": {},
   "outputs": [],
   "source": [
    "dep_parser = CoreNLPDependencyParser()"
   ]
  },
  {
   "cell_type": "code",
   "execution_count": 17,
   "metadata": {},
   "outputs": [
    {
     "name": "stdout",
     "output_type": "stream",
     "text": [
      "We show a representation of Quantum Computers defines Quantum Turing Machines with associated Quantum Grammars. \n",
      "\n",
      "show  -->  nsubj  -->  We\n",
      "show  -->  ccomp  -->  defines\n",
      "defines  -->  nsubj  -->  representation\n",
      "representation  -->  det  -->  a\n",
      "representation  -->  nmod  -->  Computers\n",
      "Computers  -->  case  -->  of\n",
      "Computers  -->  compound  -->  Quantum\n",
      "defines  -->  dobj  -->  Machines\n",
      "Machines  -->  compound  -->  Quantum\n",
      "Machines  -->  compound  -->  Turing\n",
      "defines  -->  nmod  -->  Grammars\n",
      "Grammars  -->  case  -->  with\n",
      "Grammars  -->  amod  -->  associated\n",
      "Grammars  -->  compound  -->  Quantum\n",
      "show  -->  punct  -->  .\n",
      "\n"
     ]
    }
   ],
   "source": [
    "display_dep_parse(dep_parser, sentences[0])"
   ]
  },
  {
   "cell_type": "code",
   "execution_count": 18,
   "metadata": {},
   "outputs": [
    {
     "name": "stdout",
     "output_type": "stream",
     "text": [
      "We then create examples of Quantum Grammars. \n",
      "\n",
      "create  -->  nsubj  -->  We\n",
      "create  -->  advmod  -->  then\n",
      "create  -->  dobj  -->  examples\n",
      "examples  -->  nmod  -->  Grammars\n",
      "Grammars  -->  case  -->  of\n",
      "Grammars  -->  compound  -->  Quantum\n",
      "create  -->  punct  -->  .\n",
      "\n"
     ]
    }
   ],
   "source": [
    "display_dep_parse(dep_parser, sentences[1])"
   ]
  },
  {
   "cell_type": "code",
   "execution_count": 19,
   "metadata": {},
   "outputs": [
    {
     "name": "stdout",
     "output_type": "stream",
     "text": [
      "Lastly we develop an algebraic approach to high level Quantum Languages using Quantum Assembly language and Quantum C language as examples. \n",
      "\n",
      "develop  -->  advmod  -->  Lastly\n",
      "develop  -->  nsubj  -->  we\n",
      "develop  -->  dobj  -->  approach\n",
      "approach  -->  det  -->  an\n",
      "approach  -->  amod  -->  algebraic\n",
      "approach  -->  nmod  -->  Languages\n",
      "Languages  -->  case  -->  to\n",
      "Languages  -->  amod  -->  high\n",
      "Languages  -->  compound  -->  level\n",
      "Languages  -->  compound  -->  Quantum\n",
      "approach  -->  acl  -->  using\n",
      "using  -->  dobj  -->  language\n",
      "language  -->  compound  -->  Quantum\n",
      "language  -->  compound  -->  Assembly\n",
      "language  -->  cc  -->  and\n",
      "language  -->  conj  -->  language\n",
      "language  -->  compound  -->  Quantum\n",
      "language  -->  compound  -->  C\n",
      "using  -->  nmod  -->  examples\n",
      "examples  -->  case  -->  as\n",
      "develop  -->  punct  -->  .\n",
      "\n"
     ]
    }
   ],
   "source": [
    "display_dep_parse(dep_parser, sentences[2])"
   ]
  },
  {
   "cell_type": "markdown",
   "metadata": {},
   "source": [
    "### References\n",
    "1. [A short introduction from the NLTK book](http://www.nltk.org/book/ch08.html), section 8.5\n",
    "1. [A $\\text{long}^3$ but complete material on universal dependencies (UD)](https://universaldependencies.org), version 2\n",
    "1. [A complete list of universal dependency relations](https://universaldependencies.org/u/dep/index.html), version 2"
   ]
  },
  {
   "cell_type": "markdown",
   "metadata": {},
   "source": [
    "## Coreference Resolution"
   ]
  },
  {
   "cell_type": "markdown",
   "metadata": {},
   "source": [
    "For example:"
   ]
  },
  {
   "attachments": {
    "image.png": {
     "image/png": "[encoded data removed]"
    }
   },
   "cell_type": "markdown",
   "metadata": {},
   "source": [
    "![Example of coreference resolution](attachment:image.png)"
   ]
  },
  {
   "cell_type": "markdown",
   "metadata": {},
   "source": [
    "### Reference\n",
    "1. [Slides](http://www.cs.upc.edu/~ageno/anlp/coreference.pdf)"
   ]
  },
  {
   "cell_type": "markdown",
   "metadata": {},
   "source": [
    "## Official Python Client"
   ]
  },
  {
   "cell_type": "code",
   "execution_count": 2,
   "metadata": {},
   "outputs": [
    {
     "name": "stdout",
     "output_type": "stream",
     "text": [
      "Requirement already satisfied: stanford-corenlp in /home/apps/anaconda3/lib/python3.6/site-packages (3.9.2)\n",
      "Requirement already satisfied: corenlp-protobuf>=3.8.0 in /home/apps/anaconda3/lib/python3.6/site-packages (from stanford-corenlp) (3.8.0)\n",
      "Requirement already satisfied: requests>=2.10.0 in /home/apps/anaconda3/lib/python3.6/site-packages (from stanford-corenlp) (2.21.0)\n",
      "Requirement already satisfied: six>=1.9 in /home/apps/anaconda3/lib/python3.6/site-packages (from stanford-corenlp) (1.12.0)\n",
      "Requirement already satisfied: protobuf in /home/apps/anaconda3/lib/python3.6/site-packages (from corenlp-protobuf>=3.8.0->stanford-corenlp) (3.6.1)\n",
      "Requirement already satisfied: urllib3<1.25,>=1.21.1 in /home/apps/anaconda3/lib/python3.6/site-packages (from requests>=2.10.0->stanford-corenlp) (1.24.1)\n",
      "Requirement already satisfied: certifi>=2017.4.17 in /home/apps/anaconda3/lib/python3.6/site-packages (from requests>=2.10.0->stanford-corenlp) (2018.11.29)\n",
      "Requirement already satisfied: idna<2.9,>=2.5 in /home/apps/anaconda3/lib/python3.6/site-packages (from requests>=2.10.0->stanford-corenlp) (2.8)\n",
      "Requirement already satisfied: chardet<3.1.0,>=3.0.2 in /home/apps/anaconda3/lib/python3.6/site-packages (from requests>=2.10.0->stanford-corenlp) (3.0.4)\n",
      "Requirement already satisfied: setuptools in /home/apps/anaconda3/lib/python3.6/site-packages (from protobuf->corenlp-protobuf>=3.8.0->stanford-corenlp) (40.6.3)\n"
     ]
    }
   ],
   "source": [
    "!pip install stanford-corenlp"
   ]
  },
  {
   "cell_type": "code",
   "execution_count": 27,
   "metadata": {},
   "outputs": [],
   "source": [
    "from corenlp import CoreNLPClient"
   ]
  },
  {
   "cell_type": "code",
   "execution_count": 38,
   "metadata": {},
   "outputs": [],
   "source": [
    "annotators = \"tokenize ssplit pos lemma ner parse depparse\".split()\n",
    "client = CoreNLPClient(start_server=False, annotators=annotators, output_format='json')"
   ]
  },
  {
   "cell_type": "code",
   "execution_count": 39,
   "metadata": {},
   "outputs": [],
   "source": [
    "ann = client.annotate(summary)"
   ]
  },
  {
   "cell_type": "code",
   "execution_count": 45,
   "metadata": {
    "scrolled": false
   },
   "outputs": [
    {
     "name": "stdout",
     "output_type": "stream",
     "text": [
      "index\n",
      "0\n",
      "\n",
      "parse\n",
      "(ROOT\n",
      "  (S\n",
      "    (NP (PRP We))\n",
      "    (VP (VBP show)\n",
      "      (SBAR\n",
      "        (S\n",
      "          (NP\n",
      "            (NP (DT a) (NN representation))\n",
      "            (PP (IN of)\n",
      "              (NP (NNP Quantum) (NNP Computers))))\n",
      "          (VP (VBZ defines)\n",
      "            (NP\n",
      "              (NP (NNP Quantum) (NNP Turing) (NNPS Machines))\n",
      "              (PP (IN with)\n",
      "                (S\n",
      "                  (VP (VBN associated)\n",
      "                    (NP (NNP Quantum) (NNP Grammars))))))))))\n",
      "    (. .)))\n",
      "\n",
      "basicDependencies\n",
      "[{'dep': 'ROOT', 'governor': 0, 'governorGloss': 'ROOT', 'dependent': 2, 'dependentGloss': 'show'}, {'dep': 'nsubj', 'governor': 2, 'governorGloss': 'show', 'dependent': 1, 'dependentGloss': 'We'}, {'dep': 'det', 'governor': 4, 'governorGloss': 'representation', 'dependent': 3, 'dependentGloss': 'a'}, {'dep': 'nsubj', 'governor': 8, 'governorGloss': 'defines', 'dependent': 4, 'dependentGloss': 'representation'}, {'dep': 'case', 'governor': 7, 'governorGloss': 'Computers', 'dependent': 5, 'dependentGloss': 'of'}, {'dep': 'compound', 'governor': 7, 'governorGloss': 'Computers', 'dependent': 6, 'dependentGloss': 'Quantum'}, {'dep': 'nmod', 'governor': 4, 'governorGloss': 'representation', 'dependent': 7, 'dependentGloss': 'Computers'}, {'dep': 'ccomp', 'governor': 2, 'governorGloss': 'show', 'dependent': 8, 'dependentGloss': 'defines'}, {'dep': 'compound', 'governor': 11, 'governorGloss': 'Machines', 'dependent': 9, 'dependentGloss': 'Quantum'}, {'dep': 'compound', 'governor': 11, 'governorGloss': 'Machines', 'dependent': 10, 'dependentGloss': 'Turing'}, {'dep': 'dobj', 'governor': 8, 'governorGloss': 'defines', 'dependent': 11, 'dependentGloss': 'Machines'}, {'dep': 'case', 'governor': 15, 'governorGloss': 'Grammars', 'dependent': 12, 'dependentGloss': 'with'}, {'dep': 'amod', 'governor': 15, 'governorGloss': 'Grammars', 'dependent': 13, 'dependentGloss': 'associated'}, {'dep': 'compound', 'governor': 15, 'governorGloss': 'Grammars', 'dependent': 14, 'dependentGloss': 'Quantum'}, {'dep': 'nmod', 'governor': 8, 'governorGloss': 'defines', 'dependent': 15, 'dependentGloss': 'Grammars'}, {'dep': 'punct', 'governor': 2, 'governorGloss': 'show', 'dependent': 16, 'dependentGloss': '.'}]\n",
      "\n",
      "enhancedDependencies\n",
      "[{'dep': 'ROOT', 'governor': 0, 'governorGloss': 'ROOT', 'dependent': 2, 'dependentGloss': 'show'}, {'dep': 'nsubj', 'governor': 2, 'governorGloss': 'show', 'dependent': 1, 'dependentGloss': 'We'}, {'dep': 'det', 'governor': 4, 'governorGloss': 'representation', 'dependent': 3, 'dependentGloss': 'a'}, {'dep': 'nsubj', 'governor': 8, 'governorGloss': 'defines', 'dependent': 4, 'dependentGloss': 'representation'}, {'dep': 'case', 'governor': 7, 'governorGloss': 'Computers', 'dependent': 5, 'dependentGloss': 'of'}, {'dep': 'compound', 'governor': 7, 'governorGloss': 'Computers', 'dependent': 6, 'dependentGloss': 'Quantum'}, {'dep': 'nmod:of', 'governor': 4, 'governorGloss': 'representation', 'dependent': 7, 'dependentGloss': 'Computers'}, {'dep': 'ccomp', 'governor': 2, 'governorGloss': 'show', 'dependent': 8, 'dependentGloss': 'defines'}, {'dep': 'compound', 'governor': 11, 'governorGloss': 'Machines', 'dependent': 9, 'dependentGloss': 'Quantum'}, {'dep': 'compound', 'governor': 11, 'governorGloss': 'Machines', 'dependent': 10, 'dependentGloss': 'Turing'}, {'dep': 'dobj', 'governor': 8, 'governorGloss': 'defines', 'dependent': 11, 'dependentGloss': 'Machines'}, {'dep': 'case', 'governor': 15, 'governorGloss': 'Grammars', 'dependent': 12, 'dependentGloss': 'with'}, {'dep': 'amod', 'governor': 15, 'governorGloss': 'Grammars', 'dependent': 13, 'dependentGloss': 'associated'}, {'dep': 'compound', 'governor': 15, 'governorGloss': 'Grammars', 'dependent': 14, 'dependentGloss': 'Quantum'}, {'dep': 'nmod:with', 'governor': 8, 'governorGloss': 'defines', 'dependent': 15, 'dependentGloss': 'Grammars'}, {'dep': 'punct', 'governor': 2, 'governorGloss': 'show', 'dependent': 16, 'dependentGloss': '.'}]\n",
      "\n",
      "enhancedPlusPlusDependencies\n",
      "[{'dep': 'ROOT', 'governor': 0, 'governorGloss': 'ROOT', 'dependent': 2, 'dependentGloss': 'show'}, {'dep': 'nsubj', 'governor': 2, 'governorGloss': 'show', 'dependent': 1, 'dependentGloss': 'We'}, {'dep': 'det', 'governor': 4, 'governorGloss': 'representation', 'dependent': 3, 'dependentGloss': 'a'}, {'dep': 'nsubj', 'governor': 8, 'governorGloss': 'defines', 'dependent': 4, 'dependentGloss': 'representation'}, {'dep': 'case', 'governor': 7, 'governorGloss': 'Computers', 'dependent': 5, 'dependentGloss': 'of'}, {'dep': 'compound', 'governor': 7, 'governorGloss': 'Computers', 'dependent': 6, 'dependentGloss': 'Quantum'}, {'dep': 'nmod:of', 'governor': 4, 'governorGloss': 'representation', 'dependent': 7, 'dependentGloss': 'Computers'}, {'dep': 'ccomp', 'governor': 2, 'governorGloss': 'show', 'dependent': 8, 'dependentGloss': 'defines'}, {'dep': 'compound', 'governor': 11, 'governorGloss': 'Machines', 'dependent': 9, 'dependentGloss': 'Quantum'}, {'dep': 'compound', 'governor': 11, 'governorGloss': 'Machines', 'dependent': 10, 'dependentGloss': 'Turing'}, {'dep': 'dobj', 'governor': 8, 'governorGloss': 'defines', 'dependent': 11, 'dependentGloss': 'Machines'}, {'dep': 'case', 'governor': 15, 'governorGloss': 'Grammars', 'dependent': 12, 'dependentGloss': 'with'}, {'dep': 'amod', 'governor': 15, 'governorGloss': 'Grammars', 'dependent': 13, 'dependentGloss': 'associated'}, {'dep': 'compound', 'governor': 15, 'governorGloss': 'Grammars', 'dependent': 14, 'dependentGloss': 'Quantum'}, {'dep': 'nmod:with', 'governor': 8, 'governorGloss': 'defines', 'dependent': 15, 'dependentGloss': 'Grammars'}, {'dep': 'punct', 'governor': 2, 'governorGloss': 'show', 'dependent': 16, 'dependentGloss': '.'}]\n",
      "\n",
      "entitymentions\n",
      "[{'docTokenBegin': 5, 'docTokenEnd': 7, 'tokenBegin': 5, 'tokenEnd': 7, 'text': 'Quantum Computers', 'characterOffsetBegin': 28, 'characterOffsetEnd': 45, 'ner': 'ORGANIZATION'}, {'docTokenBegin': 8, 'docTokenEnd': 11, 'tokenBegin': 8, 'tokenEnd': 11, 'text': 'Quantum Turing Machines', 'characterOffsetBegin': 54, 'characterOffsetEnd': 77, 'ner': 'ORGANIZATION'}]\n",
      "\n",
      "tokens\n",
      "[{'index': 1, 'word': 'We', 'originalText': 'We', 'lemma': 'we', 'characterOffsetBegin': 0, 'characterOffsetEnd': 2, 'pos': 'PRP', 'ner': 'O', 'before': '', 'after': ' '}, {'index': 2, 'word': 'show', 'originalText': 'show', 'lemma': 'show', 'characterOffsetBegin': 3, 'characterOffsetEnd': 7, 'pos': 'VBP', 'ner': 'O', 'before': ' ', 'after': ' '}, {'index': 3, 'word': 'a', 'originalText': 'a', 'lemma': 'a', 'characterOffsetBegin': 8, 'characterOffsetEnd': 9, 'pos': 'DT', 'ner': 'O', 'before': ' ', 'after': ' '}, {'index': 4, 'word': 'representation', 'originalText': 'representation', 'lemma': 'representation', 'characterOffsetBegin': 10, 'characterOffsetEnd': 24, 'pos': 'NN', 'ner': 'O', 'before': ' ', 'after': ' '}, {'index': 5, 'word': 'of', 'originalText': 'of', 'lemma': 'of', 'characterOffsetBegin': 25, 'characterOffsetEnd': 27, 'pos': 'IN', 'ner': 'O', 'before': ' ', 'after': ' '}, {'index': 6, 'word': 'Quantum', 'originalText': 'Quantum', 'lemma': 'Quantum', 'characterOffsetBegin': 28, 'characterOffsetEnd': 35, 'pos': 'NNP', 'ner': 'ORGANIZATION', 'before': ' ', 'after': ' '}, {'index': 7, 'word': 'Computers', 'originalText': 'Computers', 'lemma': 'Computers', 'characterOffsetBegin': 36, 'characterOffsetEnd': 45, 'pos': 'NNP', 'ner': 'ORGANIZATION', 'before': ' ', 'after': ' '}, {'index': 8, 'word': 'defines', 'originalText': 'defines', 'lemma': 'define', 'characterOffsetBegin': 46, 'characterOffsetEnd': 53, 'pos': 'VBZ', 'ner': 'O', 'before': ' ', 'after': ' '}, {'index': 9, 'word': 'Quantum', 'originalText': 'Quantum', 'lemma': 'Quantum', 'characterOffsetBegin': 54, 'characterOffsetEnd': 61, 'pos': 'NNP', 'ner': 'ORGANIZATION', 'before': ' ', 'after': ' '}, {'index': 10, 'word': 'Turing', 'originalText': 'Turing', 'lemma': 'Turing', 'characterOffsetBegin': 62, 'characterOffsetEnd': 68, 'pos': 'NNP', 'ner': 'ORGANIZATION', 'before': ' ', 'after': ' '}, {'index': 11, 'word': 'Machines', 'originalText': 'Machines', 'lemma': 'Machines', 'characterOffsetBegin': 69, 'characterOffsetEnd': 77, 'pos': 'NNPS', 'ner': 'ORGANIZATION', 'before': ' ', 'after': ' '}, {'index': 12, 'word': 'with', 'originalText': 'with', 'lemma': 'with', 'characterOffsetBegin': 78, 'characterOffsetEnd': 82, 'pos': 'IN', 'ner': 'O', 'before': ' ', 'after': ' '}, {'index': 13, 'word': 'associated', 'originalText': 'associated', 'lemma': 'associate', 'characterOffsetBegin': 83, 'characterOffsetEnd': 93, 'pos': 'VBN', 'ner': 'O', 'before': ' ', 'after': ' '}, {'index': 14, 'word': 'Quantum', 'originalText': 'Quantum', 'lemma': 'Quantum', 'characterOffsetBegin': 94, 'characterOffsetEnd': 101, 'pos': 'NNP', 'ner': 'O', 'before': ' ', 'after': ' '}, {'index': 15, 'word': 'Grammars', 'originalText': 'Grammars', 'lemma': 'Grammars', 'characterOffsetBegin': 102, 'characterOffsetEnd': 110, 'pos': 'NNP', 'ner': 'O', 'before': ' ', 'after': ''}, {'index': 16, 'word': '.', 'originalText': '.', 'lemma': '.', 'characterOffsetBegin': 110, 'characterOffsetEnd': 111, 'pos': '.', 'ner': 'O', 'before': '', 'after': ' '}]\n",
      "\n",
      "index\n",
      "1\n",
      "\n",
      "parse\n",
      "(ROOT\n",
      "  (S\n",
      "    (NP (PRP We))\n",
      "    (ADVP (RB then))\n",
      "    (VP (VBP create)\n",
      "      (NP\n",
      "        (NP (NNS examples))\n",
      "        (PP (IN of)\n",
      "          (NP (NNP Quantum) (NNP Grammars)))))\n",
      "    (. .)))\n",
      "\n",
      "basicDependencies\n",
      "[{'dep': 'ROOT', 'governor': 0, 'governorGloss': 'ROOT', 'dependent': 3, 'dependentGloss': 'create'}, {'dep': 'nsubj', 'governor': 3, 'governorGloss': 'create', 'dependent': 1, 'dependentGloss': 'We'}, {'dep': 'advmod', 'governor': 3, 'governorGloss': 'create', 'dependent': 2, 'dependentGloss': 'then'}, {'dep': 'dobj', 'governor': 3, 'governorGloss': 'create', 'dependent': 4, 'dependentGloss': 'examples'}, {'dep': 'case', 'governor': 7, 'governorGloss': 'Grammars', 'dependent': 5, 'dependentGloss': 'of'}, {'dep': 'compound', 'governor': 7, 'governorGloss': 'Grammars', 'dependent': 6, 'dependentGloss': 'Quantum'}, {'dep': 'nmod', 'governor': 4, 'governorGloss': 'examples', 'dependent': 7, 'dependentGloss': 'Grammars'}, {'dep': 'punct', 'governor': 3, 'governorGloss': 'create', 'dependent': 8, 'dependentGloss': '.'}]\n",
      "\n",
      "enhancedDependencies\n",
      "[{'dep': 'ROOT', 'governor': 0, 'governorGloss': 'ROOT', 'dependent': 3, 'dependentGloss': 'create'}, {'dep': 'nsubj', 'governor': 3, 'governorGloss': 'create', 'dependent': 1, 'dependentGloss': 'We'}, {'dep': 'advmod', 'governor': 3, 'governorGloss': 'create', 'dependent': 2, 'dependentGloss': 'then'}, {'dep': 'dobj', 'governor': 3, 'governorGloss': 'create', 'dependent': 4, 'dependentGloss': 'examples'}, {'dep': 'case', 'governor': 7, 'governorGloss': 'Grammars', 'dependent': 5, 'dependentGloss': 'of'}, {'dep': 'compound', 'governor': 7, 'governorGloss': 'Grammars', 'dependent': 6, 'dependentGloss': 'Quantum'}, {'dep': 'nmod:of', 'governor': 4, 'governorGloss': 'examples', 'dependent': 7, 'dependentGloss': 'Grammars'}, {'dep': 'punct', 'governor': 3, 'governorGloss': 'create', 'dependent': 8, 'dependentGloss': '.'}]\n",
      "\n",
      "enhancedPlusPlusDependencies\n",
      "[{'dep': 'ROOT', 'governor': 0, 'governorGloss': 'ROOT', 'dependent': 3, 'dependentGloss': 'create'}, {'dep': 'nsubj', 'governor': 3, 'governorGloss': 'create', 'dependent': 1, 'dependentGloss': 'We'}, {'dep': 'advmod', 'governor': 3, 'governorGloss': 'create', 'dependent': 2, 'dependentGloss': 'then'}, {'dep': 'dobj', 'governor': 3, 'governorGloss': 'create', 'dependent': 4, 'dependentGloss': 'examples'}, {'dep': 'case', 'governor': 7, 'governorGloss': 'Grammars', 'dependent': 5, 'dependentGloss': 'of'}, {'dep': 'compound', 'governor': 7, 'governorGloss': 'Grammars', 'dependent': 6, 'dependentGloss': 'Quantum'}, {'dep': 'nmod:of', 'governor': 4, 'governorGloss': 'examples', 'dependent': 7, 'dependentGloss': 'Grammars'}, {'dep': 'punct', 'governor': 3, 'governorGloss': 'create', 'dependent': 8, 'dependentGloss': '.'}]\n",
      "\n",
      "entitymentions\n",
      "[]\n",
      "\n",
      "tokens\n",
      "[{'index': 1, 'word': 'We', 'originalText': 'We', 'lemma': 'we', 'characterOffsetBegin': 112, 'characterOffsetEnd': 114, 'pos': 'PRP', 'ner': 'O', 'before': ' ', 'after': ' '}, {'index': 2, 'word': 'then', 'originalText': 'then', 'lemma': 'then', 'characterOffsetBegin': 115, 'characterOffsetEnd': 119, 'pos': 'RB', 'ner': 'O', 'before': ' ', 'after': ' '}, {'index': 3, 'word': 'create', 'originalText': 'create', 'lemma': 'create', 'characterOffsetBegin': 120, 'characterOffsetEnd': 126, 'pos': 'VBP', 'ner': 'O', 'before': ' ', 'after': ' '}, {'index': 4, 'word': 'examples', 'originalText': 'examples', 'lemma': 'example', 'characterOffsetBegin': 127, 'characterOffsetEnd': 135, 'pos': 'NNS', 'ner': 'O', 'before': ' ', 'after': ' '}, {'index': 5, 'word': 'of', 'originalText': 'of', 'lemma': 'of', 'characterOffsetBegin': 136, 'characterOffsetEnd': 138, 'pos': 'IN', 'ner': 'O', 'before': ' ', 'after': ' '}, {'index': 6, 'word': 'Quantum', 'originalText': 'Quantum', 'lemma': 'Quantum', 'characterOffsetBegin': 139, 'characterOffsetEnd': 146, 'pos': 'NNP', 'ner': 'O', 'before': ' ', 'after': ' '}, {'index': 7, 'word': 'Grammars', 'originalText': 'Grammars', 'lemma': 'Grammars', 'characterOffsetBegin': 147, 'characterOffsetEnd': 155, 'pos': 'NNP', 'ner': 'O', 'before': ' ', 'after': ''}, {'index': 8, 'word': '.', 'originalText': '.', 'lemma': '.', 'characterOffsetBegin': 155, 'characterOffsetEnd': 156, 'pos': '.', 'ner': 'O', 'before': '', 'after': ' '}]\n",
      "\n",
      "index\n",
      "2\n",
      "\n",
      "parse\n",
      "(ROOT\n",
      "  (S\n",
      "    (ADVP (RB Lastly))\n",
      "    (NP (PRP we))\n",
      "    (VP (VBP develop)\n",
      "      (NP (DT an) (JJ algebraic) (NN approach))\n",
      "      (PP (TO to)\n",
      "        (NP (JJ high) (NN level) (NNP Quantum) (NNP Languages)))\n",
      "      (S\n",
      "        (VP (VBG using)\n",
      "          (NP\n",
      "            (NP (NNP Quantum) (NNP Assembly) (NN language))\n",
      "            (CC and)\n",
      "            (NP (NNP Quantum) (NNP C) (NN language)))\n",
      "          (PP (IN as)\n",
      "            (NP (NNS examples))))))\n",
      "    (. .)))\n",
      "\n",
      "basicDependencies\n",
      "[{'dep': 'ROOT', 'governor': 0, 'governorGloss': 'ROOT', 'dependent': 3, 'dependentGloss': 'develop'}, {'dep': 'advmod', 'governor': 3, 'governorGloss': 'develop', 'dependent': 1, 'dependentGloss': 'Lastly'}, {'dep': 'nsubj', 'governor': 3, 'governorGloss': 'develop', 'dependent': 2, 'dependentGloss': 'we'}, {'dep': 'det', 'governor': 6, 'governorGloss': 'approach', 'dependent': 4, 'dependentGloss': 'an'}, {'dep': 'amod', 'governor': 6, 'governorGloss': 'approach', 'dependent': 5, 'dependentGloss': 'algebraic'}, {'dep': 'dobj', 'governor': 3, 'governorGloss': 'develop', 'dependent': 6, 'dependentGloss': 'approach'}, {'dep': 'case', 'governor': 11, 'governorGloss': 'Languages', 'dependent': 7, 'dependentGloss': 'to'}, {'dep': 'amod', 'governor': 11, 'governorGloss': 'Languages', 'dependent': 8, 'dependentGloss': 'high'}, {'dep': 'compound', 'governor': 11, 'governorGloss': 'Languages', 'dependent': 9, 'dependentGloss': 'level'}, {'dep': 'compound', 'governor': 11, 'governorGloss': 'Languages', 'dependent': 10, 'dependentGloss': 'Quantum'}, {'dep': 'nmod', 'governor': 6, 'governorGloss': 'approach', 'dependent': 11, 'dependentGloss': 'Languages'}, {'dep': 'acl', 'governor': 6, 'governorGloss': 'approach', 'dependent': 12, 'dependentGloss': 'using'}, {'dep': 'compound', 'governor': 15, 'governorGloss': 'language', 'dependent': 13, 'dependentGloss': 'Quantum'}, {'dep': 'compound', 'governor': 15, 'governorGloss': 'language', 'dependent': 14, 'dependentGloss': 'Assembly'}, {'dep': 'dobj', 'governor': 12, 'governorGloss': 'using', 'dependent': 15, 'dependentGloss': 'language'}, {'dep': 'cc', 'governor': 15, 'governorGloss': 'language', 'dependent': 16, 'dependentGloss': 'and'}, {'dep': 'compound', 'governor': 19, 'governorGloss': 'language', 'dependent': 17, 'dependentGloss': 'Quantum'}, {'dep': 'compound', 'governor': 19, 'governorGloss': 'language', 'dependent': 18, 'dependentGloss': 'C'}, {'dep': 'conj', 'governor': 15, 'governorGloss': 'language', 'dependent': 19, 'dependentGloss': 'language'}, {'dep': 'case', 'governor': 21, 'governorGloss': 'examples', 'dependent': 20, 'dependentGloss': 'as'}, {'dep': 'nmod', 'governor': 12, 'governorGloss': 'using', 'dependent': 21, 'dependentGloss': 'examples'}, {'dep': 'punct', 'governor': 3, 'governorGloss': 'develop', 'dependent': 22, 'dependentGloss': '.'}]\n",
      "\n",
      "enhancedDependencies\n",
      "[{'dep': 'ROOT', 'governor': 0, 'governorGloss': 'ROOT', 'dependent': 3, 'dependentGloss': 'develop'}, {'dep': 'advmod', 'governor': 3, 'governorGloss': 'develop', 'dependent': 1, 'dependentGloss': 'Lastly'}, {'dep': 'nsubj', 'governor': 3, 'governorGloss': 'develop', 'dependent': 2, 'dependentGloss': 'we'}, {'dep': 'det', 'governor': 6, 'governorGloss': 'approach', 'dependent': 4, 'dependentGloss': 'an'}, {'dep': 'amod', 'governor': 6, 'governorGloss': 'approach', 'dependent': 5, 'dependentGloss': 'algebraic'}, {'dep': 'dobj', 'governor': 3, 'governorGloss': 'develop', 'dependent': 6, 'dependentGloss': 'approach'}, {'dep': 'case', 'governor': 11, 'governorGloss': 'Languages', 'dependent': 7, 'dependentGloss': 'to'}, {'dep': 'amod', 'governor': 11, 'governorGloss': 'Languages', 'dependent': 8, 'dependentGloss': 'high'}, {'dep': 'compound', 'governor': 11, 'governorGloss': 'Languages', 'dependent': 9, 'dependentGloss': 'level'}, {'dep': 'compound', 'governor': 11, 'governorGloss': 'Languages', 'dependent': 10, 'dependentGloss': 'Quantum'}, {'dep': 'nmod:to', 'governor': 6, 'governorGloss': 'approach', 'dependent': 11, 'dependentGloss': 'Languages'}, {'dep': 'acl', 'governor': 6, 'governorGloss': 'approach', 'dependent': 12, 'dependentGloss': 'using'}, {'dep': 'compound', 'governor': 15, 'governorGloss': 'language', 'dependent': 13, 'dependentGloss': 'Quantum'}, {'dep': 'compound', 'governor': 15, 'governorGloss': 'language', 'dependent': 14, 'dependentGloss': 'Assembly'}, {'dep': 'dobj', 'governor': 12, 'governorGloss': 'using', 'dependent': 15, 'dependentGloss': 'language'}, {'dep': 'cc', 'governor': 15, 'governorGloss': 'language', 'dependent': 16, 'dependentGloss': 'and'}, {'dep': 'compound', 'governor': 19, 'governorGloss': 'language', 'dependent': 17, 'dependentGloss': 'Quantum'}, {'dep': 'compound', 'governor': 19, 'governorGloss': 'language', 'dependent': 18, 'dependentGloss': 'C'}, {'dep': 'dobj', 'governor': 12, 'governorGloss': 'using', 'dependent': 19, 'dependentGloss': 'language'}, {'dep': 'conj:and', 'governor': 15, 'governorGloss': 'language', 'dependent': 19, 'dependentGloss': 'language'}, {'dep': 'case', 'governor': 21, 'governorGloss': 'examples', 'dependent': 20, 'dependentGloss': 'as'}, {'dep': 'nmod:as', 'governor': 12, 'governorGloss': 'using', 'dependent': 21, 'dependentGloss': 'examples'}, {'dep': 'punct', 'governor': 3, 'governorGloss': 'develop', 'dependent': 22, 'dependentGloss': '.'}]\n",
      "\n",
      "enhancedPlusPlusDependencies\n",
      "[{'dep': 'ROOT', 'governor': 0, 'governorGloss': 'ROOT', 'dependent': 3, 'dependentGloss': 'develop'}, {'dep': 'advmod', 'governor': 3, 'governorGloss': 'develop', 'dependent': 1, 'dependentGloss': 'Lastly'}, {'dep': 'nsubj', 'governor': 3, 'governorGloss': 'develop', 'dependent': 2, 'dependentGloss': 'we'}, {'dep': 'det', 'governor': 6, 'governorGloss': 'approach', 'dependent': 4, 'dependentGloss': 'an'}, {'dep': 'amod', 'governor': 6, 'governorGloss': 'approach', 'dependent': 5, 'dependentGloss': 'algebraic'}, {'dep': 'dobj', 'governor': 3, 'governorGloss': 'develop', 'dependent': 6, 'dependentGloss': 'approach'}, {'dep': 'case', 'governor': 11, 'governorGloss': 'Languages', 'dependent': 7, 'dependentGloss': 'to'}, {'dep': 'amod', 'governor': 11, 'governorGloss': 'Languages', 'dependent': 8, 'dependentGloss': 'high'}, {'dep': 'compound', 'governor': 11, 'governorGloss': 'Languages', 'dependent': 9, 'dependentGloss': 'level'}, {'dep': 'compound', 'governor': 11, 'governorGloss': 'Languages', 'dependent': 10, 'dependentGloss': 'Quantum'}, {'dep': 'nmod:to', 'governor': 6, 'governorGloss': 'approach', 'dependent': 11, 'dependentGloss': 'Languages'}, {'dep': 'acl', 'governor': 6, 'governorGloss': 'approach', 'dependent': 12, 'dependentGloss': 'using'}, {'dep': 'compound', 'governor': 15, 'governorGloss': 'language', 'dependent': 13, 'dependentGloss': 'Quantum'}, {'dep': 'compound', 'governor': 15, 'governorGloss': 'language', 'dependent': 14, 'dependentGloss': 'Assembly'}, {'dep': 'dobj', 'governor': 12, 'governorGloss': 'using', 'dependent': 15, 'dependentGloss': 'language'}, {'dep': 'cc', 'governor': 15, 'governorGloss': 'language', 'dependent': 16, 'dependentGloss': 'and'}, {'dep': 'compound', 'governor': 19, 'governorGloss': 'language', 'dependent': 17, 'dependentGloss': 'Quantum'}, {'dep': 'compound', 'governor': 19, 'governorGloss': 'language', 'dependent': 18, 'dependentGloss': 'C'}, {'dep': 'dobj', 'governor': 12, 'governorGloss': 'using', 'dependent': 19, 'dependentGloss': 'language'}, {'dep': 'conj:and', 'governor': 15, 'governorGloss': 'language', 'dependent': 19, 'dependentGloss': 'language'}, {'dep': 'case', 'governor': 21, 'governorGloss': 'examples', 'dependent': 20, 'dependentGloss': 'as'}, {'dep': 'nmod:as', 'governor': 12, 'governorGloss': 'using', 'dependent': 21, 'dependentGloss': 'examples'}, {'dep': 'punct', 'governor': 3, 'governorGloss': 'develop', 'dependent': 22, 'dependentGloss': '.'}]\n",
      "\n",
      "entitymentions\n",
      "[{'docTokenBegin': 36, 'docTokenEnd': 38, 'tokenBegin': 12, 'tokenEnd': 14, 'text': 'Quantum Assembly', 'characterOffsetBegin': 235, 'characterOffsetEnd': 251, 'ner': 'ORGANIZATION'}]\n",
      "\n",
      "tokens\n",
      "[{'index': 1, 'word': 'Lastly', 'originalText': 'Lastly', 'lemma': 'lastly', 'characterOffsetBegin': 157, 'characterOffsetEnd': 163, 'pos': 'RB', 'ner': 'O', 'before': ' ', 'after': ' '}, {'index': 2, 'word': 'we', 'originalText': 'we', 'lemma': 'we', 'characterOffsetBegin': 164, 'characterOffsetEnd': 166, 'pos': 'PRP', 'ner': 'O', 'before': ' ', 'after': ' '}, {'index': 3, 'word': 'develop', 'originalText': 'develop', 'lemma': 'develop', 'characterOffsetBegin': 167, 'characterOffsetEnd': 174, 'pos': 'VBP', 'ner': 'O', 'before': ' ', 'after': ' '}, {'index': 4, 'word': 'an', 'originalText': 'an', 'lemma': 'a', 'characterOffsetBegin': 175, 'characterOffsetEnd': 177, 'pos': 'DT', 'ner': 'O', 'before': ' ', 'after': ' '}, {'index': 5, 'word': 'algebraic', 'originalText': 'algebraic', 'lemma': 'algebraic', 'characterOffsetBegin': 178, 'characterOffsetEnd': 187, 'pos': 'JJ', 'ner': 'O', 'before': ' ', 'after': ' '}, {'index': 6, 'word': 'approach', 'originalText': 'approach', 'lemma': 'approach', 'characterOffsetBegin': 188, 'characterOffsetEnd': 196, 'pos': 'NN', 'ner': 'O', 'before': ' ', 'after': ' '}, {'index': 7, 'word': 'to', 'originalText': 'to', 'lemma': 'to', 'characterOffsetBegin': 197, 'characterOffsetEnd': 199, 'pos': 'TO', 'ner': 'O', 'before': ' ', 'after': ' '}, {'index': 8, 'word': 'high', 'originalText': 'high', 'lemma': 'high', 'characterOffsetBegin': 200, 'characterOffsetEnd': 204, 'pos': 'JJ', 'ner': 'O', 'before': ' ', 'after': ' '}, {'index': 9, 'word': 'level', 'originalText': 'level', 'lemma': 'level', 'characterOffsetBegin': 205, 'characterOffsetEnd': 210, 'pos': 'NN', 'ner': 'O', 'before': ' ', 'after': ' '}, {'index': 10, 'word': 'Quantum', 'originalText': 'Quantum', 'lemma': 'Quantum', 'characterOffsetBegin': 211, 'characterOffsetEnd': 218, 'pos': 'NNP', 'ner': 'O', 'before': ' ', 'after': ' '}, {'index': 11, 'word': 'Languages', 'originalText': 'Languages', 'lemma': 'Languages', 'characterOffsetBegin': 219, 'characterOffsetEnd': 228, 'pos': 'NNP', 'ner': 'O', 'before': ' ', 'after': ' '}, {'index': 12, 'word': 'using', 'originalText': 'using', 'lemma': 'use', 'characterOffsetBegin': 229, 'characterOffsetEnd': 234, 'pos': 'VBG', 'ner': 'O', 'before': ' ', 'after': ' '}, {'index': 13, 'word': 'Quantum', 'originalText': 'Quantum', 'lemma': 'Quantum', 'characterOffsetBegin': 235, 'characterOffsetEnd': 242, 'pos': 'NNP', 'ner': 'ORGANIZATION', 'before': ' ', 'after': ' '}, {'index': 14, 'word': 'Assembly', 'originalText': 'Assembly', 'lemma': 'Assembly', 'characterOffsetBegin': 243, 'characterOffsetEnd': 251, 'pos': 'NNP', 'ner': 'ORGANIZATION', 'before': ' ', 'after': ' '}, {'index': 15, 'word': 'language', 'originalText': 'language', 'lemma': 'language', 'characterOffsetBegin': 252, 'characterOffsetEnd': 260, 'pos': 'NN', 'ner': 'O', 'before': ' ', 'after': ' '}, {'index': 16, 'word': 'and', 'originalText': 'and', 'lemma': 'and', 'characterOffsetBegin': 261, 'characterOffsetEnd': 264, 'pos': 'CC', 'ner': 'O', 'before': ' ', 'after': ' '}, {'index': 17, 'word': 'Quantum', 'originalText': 'Quantum', 'lemma': 'Quantum', 'characterOffsetBegin': 265, 'characterOffsetEnd': 272, 'pos': 'NNP', 'ner': 'O', 'before': ' ', 'after': ' '}, {'index': 18, 'word': 'C', 'originalText': 'C', 'lemma': 'C', 'characterOffsetBegin': 273, 'characterOffsetEnd': 274, 'pos': 'NNP', 'ner': 'O', 'before': ' ', 'after': ' '}, {'index': 19, 'word': 'language', 'originalText': 'language', 'lemma': 'language', 'characterOffsetBegin': 275, 'characterOffsetEnd': 283, 'pos': 'NN', 'ner': 'O', 'before': ' ', 'after': ' '}, {'index': 20, 'word': 'as', 'originalText': 'as', 'lemma': 'as', 'characterOffsetBegin': 284, 'characterOffsetEnd': 286, 'pos': 'IN', 'ner': 'O', 'before': ' ', 'after': ' '}, {'index': 21, 'word': 'examples', 'originalText': 'examples', 'lemma': 'example', 'characterOffsetBegin': 287, 'characterOffsetEnd': 295, 'pos': 'NNS', 'ner': 'O', 'before': ' ', 'after': ''}, {'index': 22, 'word': '.', 'originalText': '.', 'lemma': '.', 'characterOffsetBegin': 295, 'characterOffsetEnd': 296, 'pos': '.', 'ner': 'O', 'before': '', 'after': ''}]\n",
      "\n"
     ]
    }
   ],
   "source": [
    "for parsed in ann['sentences']:\n",
    "    for k, v in parsed.items():\n",
    "        print(k)\n",
    "        print(v)\n",
    "        print()"
   ]
  },
  {
   "cell_type": "code",
   "execution_count": null,
   "metadata": {},
   "outputs": [],
   "source": []
  }
 ],
 "metadata": {
  "kernelspec": {
   "display_name": "Python 3",
   "language": "python",
   "name": "python3"
  },
  "language_info": {
   "codemirror_mode": {
    "name": "ipython",
    "version": 3
   },
   "file_extension": ".py",
   "mimetype": "text/x-python",
   "name": "python",
   "nbconvert_exporter": "python",
   "pygments_lexer": "ipython3",
   "version": "3.6.8"
  }
 },
 "nbformat": 4,
 "nbformat_minor": 2
}
