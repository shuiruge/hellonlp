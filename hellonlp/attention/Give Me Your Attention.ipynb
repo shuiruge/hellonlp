{
 "cells": [
  {
   "cell_type": "markdown",
   "metadata": {},
   "source": [
    "## Neural Language Model"
   ]
  },
  {
   "cell_type": "markdown",
   "metadata": {},
   "source": [
    "Given some content $C$ as a sequence of words, and some words $x_1, \\ldots, x_n$, a language model (LM) is modeling the conditional probability\n",
    "\n",
    "\\begin{equation}\n",
    "  P \\left( x_{n+1} \\mid x_1, \\ldots, x_n; C \\right).\n",
    "\\end{equation}"
   ]
  },
  {
   "cell_type": "markdown",
   "metadata": {},
   "source": [
    "The original nerual language model, a language model by neural netwok, is implemented by RNN. In the case of nerual machine translation (as a LM), it is a RNN auto-encoder. The encoder encodes the sentence from language A, as a sequence of words in A, to a vector; and then the decoder decodes the vector to language B, as another sequence of words in B.\n",
    "\n",
    "<img src=\"https://cdn-images-1.medium.com/max/1200/0*H3OrEmG7Z1SgllAQ.\" alt=\"Drawing\" style=\"width: 800px;\"/>"
   ]
  },
  {
   "cell_type": "markdown",
   "metadata": {},
   "source": [
    "## Backward of RNN Encoder"
   ]
  },
  {
   "cell_type": "markdown",
   "metadata": {},
   "source": [
    "The information contained the final encoding vector is limited by the dimension of the vector. A `float32` value in range $(-1, 1)$ has $24$ bits. If the encoding dimension is $1000$ (large), then the total information is $1000 \\times 24 = 24000$ bits. Can these bits encode all the poems of Shakespeare? No way!"
   ]
  },
  {
   "cell_type": "markdown",
   "metadata": {},
   "source": [
    "The solution to this obstacle is, naturally, to use the full encoded sequence, instead of the last element of the sequence. This retains almost all the information.\n",
    "\n",
    "However, at every step of decoding, not all the elements in the sequence are relavent. So, we, or say the machine, has to figure out the relavence. This is attention."
   ]
  },
  {
   "cell_type": "markdown",
   "metadata": {},
   "source": [
    "## Focus your Attention!"
   ]
  },
  {
   "cell_type": "markdown",
   "metadata": {},
   "source": [
    "<img src=\"https://qph.fs.quoracdn.net/main-qimg-4af8f1e1933c5aa9f9f5a54838eedf98.webp\" alt=\"Drawing\" style=\"width: 800px;\"/>"
   ]
  },
  {
   "cell_type": "markdown",
   "metadata": {},
   "source": [
    "A detailed architecture:\n",
    "\n",
    "<img src=\"https://github.com/GSimas/Deep-LearningAI/blob/master/Course%205/Week%203/Neural%20Machine%20Translation/images/attn_mechanism.png?raw=true\" alt=\"Drawing\" style=\"width: 500px;\"/>"
   ]
  },
  {
   "cell_type": "code",
   "execution_count": 1,
   "metadata": {},
   "outputs": [],
   "source": [
    "import abc\n",
    "import tensorflow as tf\n",
    "\n",
    "\n",
    "class BaseAttention(abc.ABC):\n",
    "  \"\"\"Abstract base class of attention.\"\"\"\n",
    "  \n",
    "  # Abbreviations for shapes:\n",
    "  #   batch_shape -> B (list of `int`s)\n",
    "  #   seqlen -> L (`int`)\n",
    "  #   query_dim -> Q (`int`)\n",
    "  #   key_dim -> K (`int`)\n",
    "  #   value_dim -> V (`int`)\n",
    "\n",
    "  def __call__(self, query, keys, values, name='Attention'):\n",
    "    \"\"\"Returns the context, with attention-score.\n",
    "    \n",
    "    Args:\n",
    "      query: Tensor with shape `batch_shape + [query_dim]`.\n",
    "      keys: Tensor with shape `batch_shape + [seqlen, key_dim]`.\n",
    "      values: Tensor with shape `batch_shape + [seqlen, value_dim]`.\n",
    "      name: String.\n",
    "      \n",
    "    Returns:\n",
    "      Tuple of two tensors. The first with shape `batch_shape + [value_dim]`\n",
    "      as the context; and the second with shape `batch_shape + [seqlen]` as\n",
    "      the attention-score.\n",
    "    \"\"\"\n",
    "    with tf.name_scope(name):\n",
    "      score = self._score(query, keys)  # B + [L, 1]\n",
    "      # score * values: B + [L, V]\n",
    "      context = tf.reduce_sum(score * values, axis=-2)  # B + [V]\n",
    "      score = tf.squeeze(score, axis=-1)  # B + [L]\n",
    "      return score, context\n",
    "\n",
    "  def _score(self, query, keys, name='attention_score'):\n",
    "    \"\"\"Returns the attention-score.\n",
    "\n",
    "    Args:\n",
    "      query: Tensor with shape `batch_shape + [query_dim]`.\n",
    "      keys: Tensor with shape `batch_shape + [seqlen, key_dim]`.\n",
    "      name: String.\n",
    "      \n",
    "    Returns:\n",
    "      Tensor with shape `batch_shape + [seqlen, 1]`. The additional `1`\n",
    "      is made for convienence for being contracted by a \"values\" tensor\n",
    "      with shape `batch_shape + [seqlen, value_dim]` along the `seqlen`\n",
    "      axis.\n",
    "    \"\"\"\n",
    "    with tf.name_scope(name):\n",
    "      with tf.name_scope('repeat'):  # along `seqlen`-axis.\n",
    "        query = tf.expand_dims(query, axis=-2)  # B + [1, Q]\n",
    "        query = tf.tile(query, self._get_repeats(keys))  # B + [L, Q]\n",
    "\n",
    "      concated = tf.concat([query, keys], axis=-1)  # B + [L, Q+K]\n",
    "      energy = self.energy(concated)  # B + [L, 1]\n",
    "      # Softmax along the `L`-axis\n",
    "      attention_score = tf.nn.softmax(energy, axis=-2)  # B + [L, 1]\n",
    "      return attention_score\n",
    "\n",
    "  def _get_repeats(self, keys):\n",
    "    \"\"\"Returns the `repeats` argument of the `tf.tile()` in `self.__call__()`.\"\"\"\n",
    "    with tf.name_scope('repeats'):\n",
    "      shape = keys.get_shape().as_list()\n",
    "      rank = len(shape)\n",
    "      seqlen = shape[-2]\n",
    "      return [1] * (rank - 2) + [seqlen, 1]\n",
    "\n",
    "  @abc.abstractmethod\n",
    "  def energy(self, x):\n",
    "    \"\"\"\n",
    "    Args:\n",
    "      x: Tensor with shape `batch_shape + [query_dim + key_dim]`.\n",
    "\n",
    "    Returns:\n",
    "      Tensor with shape `batch_shape + [1]`.\n",
    "    \"\"\"\n",
    "    pass"
   ]
  },
  {
   "cell_type": "markdown",
   "metadata": {},
   "source": [
    "## A Simple Example"
   ]
  },
  {
   "cell_type": "markdown",
   "metadata": {},
   "source": [
    "We show up a simple enough example found in [Ng's course](https://github.com/GSimas/Deep-LearningAI/tree/master/Course%205/Week%203/Neural%20Machine%20Translation). This is a simple neural machine translation model that converts date-format from the natural language format for human to the standard format for machine."
   ]
  },
  {
   "cell_type": "markdown",
   "metadata": {},
   "source": [
    "### Date-Format Data"
   ]
  },
  {
   "cell_type": "code",
   "execution_count": 2,
   "metadata": {},
   "outputs": [
    {
     "name": "stderr",
     "output_type": "stream",
     "text": [
      "100%|██████████| 10000/10000 [00:00<00:00, 17223.09it/s]\n"
     ]
    }
   ],
   "source": [
    "import numpy as np\n",
    "from nmt_utils import load_dataset, preprocess_data\n",
    "\n",
    "dataset, human_vocab, machine_vocab, inv_machine_vocab = load_dataset(10000)"
   ]
  },
  {
   "cell_type": "markdown",
   "metadata": {},
   "source": [
    "Some instances:"
   ]
  },
  {
   "cell_type": "code",
   "execution_count": 3,
   "metadata": {},
   "outputs": [
    {
     "data": {
      "text/plain": [
       "[('9 may 1998', '1998-05-09'),\n",
       " ('10.09.70', '1970-09-10'),\n",
       " ('4/28/90', '1990-04-28'),\n",
       " ('thursday january 26 1995', '1995-01-26'),\n",
       " ('monday march 7 1983', '1983-03-07'),\n",
       " ('sunday may 22 1988', '1988-05-22'),\n",
       " ('tuesday july 8 2008', '2008-07-08'),\n",
       " ('08 sep 1999', '1999-09-08'),\n",
       " ('1 jan 1981', '1981-01-01'),\n",
       " ('monday may 22 1995', '1995-05-22')]"
      ]
     },
     "execution_count": 3,
     "metadata": {},
     "output_type": "execute_result"
    }
   ],
   "source": [
    "dataset[:10]"
   ]
  },
  {
   "cell_type": "markdown",
   "metadata": {},
   "source": [
    "The vocabularies for both human and machine are character-level:"
   ]
  },
  {
   "cell_type": "code",
   "execution_count": 4,
   "metadata": {},
   "outputs": [
    {
     "name": "stdout",
     "output_type": "stream",
     "text": [
      "Human vocabulary: {' ': 0, '.': 1, '/': 2, '0': 3, '1': 4, '2': 5, '3': 6, '4': 7, '5': 8, '6': 9, '7': 10, '8': 11, '9': 12, 'a': 13, 'b': 14, 'c': 15, 'd': 16, 'e': 17, 'f': 18, 'g': 19, 'h': 20, 'i': 21, 'j': 22, 'l': 23, 'm': 24, 'n': 25, 'o': 26, 'p': 27, 'r': 28, 's': 29, 't': 30, 'u': 31, 'v': 32, 'w': 33, 'y': 34, '<unk>': 35, '<pad>': 36} \n",
      "\n",
      "Machine vocabulary: {'-': 0, '0': 1, '1': 2, '2': 3, '3': 4, '4': 5, '5': 6, '6': 7, '7': 8, '8': 9, '9': 10}\n"
     ]
    }
   ],
   "source": [
    "print('Human vocabulary:', human_vocab, '\\n')\n",
    "print('Machine vocabulary:', machine_vocab)"
   ]
  },
  {
   "cell_type": "markdown",
   "metadata": {},
   "source": [
    "Preprocessing to model inputs:\n",
    "  1. replacing unknown with \"<unk>\"; \n",
    "  1. post-padding;\n",
    "  1. the inputs and outputs (targets) are all in one-hot format."
   ]
  },
  {
   "cell_type": "code",
   "execution_count": 5,
   "metadata": {},
   "outputs": [],
   "source": [
    "input_seqlen = 30\n",
    "output_seqlen = 10\n",
    "X, y, X_oh, y_oh = preprocess_data(\n",
    "    dataset, human_vocab, machine_vocab, input_seqlen, output_seqlen)"
   ]
  },
  {
   "cell_type": "code",
   "execution_count": 6,
   "metadata": {},
   "outputs": [
    {
     "name": "stdout",
     "output_type": "stream",
     "text": [
      "Source date: 9 may 1998\n",
      "Target date: 1998-05-09\n",
      "\n",
      "Source after preprocessing (indices): [12  0 24 13 34  0  4 12 12 11 36 36 36 36 36 36 36 36 36 36 36 36 36 36\n",
      " 36 36 36 36 36 36]\n",
      "Target after preprocessing (indices): [ 2 10 10  9  0  1  6  0  1 10]\n",
      "\n",
      "Source after preprocessing (one-hot): [[0. 0. 0. ... 0. 0. 0.]\n",
      " [1. 0. 0. ... 0. 0. 0.]\n",
      " [0. 0. 0. ... 0. 0. 0.]\n",
      " ...\n",
      " [0. 0. 0. ... 0. 0. 1.]\n",
      " [0. 0. 0. ... 0. 0. 1.]\n",
      " [0. 0. 0. ... 0. 0. 1.]]\n",
      "Target after preprocessing (one-hot): [[0. 0. 1. 0. 0. 0. 0. 0. 0. 0. 0.]\n",
      " [0. 0. 0. 0. 0. 0. 0. 0. 0. 0. 1.]\n",
      " [0. 0. 0. 0. 0. 0. 0. 0. 0. 0. 1.]\n",
      " [0. 0. 0. 0. 0. 0. 0. 0. 0. 1. 0.]\n",
      " [1. 0. 0. 0. 0. 0. 0. 0. 0. 0. 0.]\n",
      " [0. 1. 0. 0. 0. 0. 0. 0. 0. 0. 0.]\n",
      " [0. 0. 0. 0. 0. 0. 1. 0. 0. 0. 0.]\n",
      " [1. 0. 0. 0. 0. 0. 0. 0. 0. 0. 0.]\n",
      " [0. 1. 0. 0. 0. 0. 0. 0. 0. 0. 0.]\n",
      " [0. 0. 0. 0. 0. 0. 0. 0. 0. 0. 1.]]\n"
     ]
    }
   ],
   "source": [
    "index = 0\n",
    "print(\"Source date:\", dataset[index][0])\n",
    "print(\"Target date:\", dataset[index][1])\n",
    "print()\n",
    "print(\"Source after preprocessing (indices):\", X[index])\n",
    "print(\"Target after preprocessing (indices):\", y[index])\n",
    "print()\n",
    "print(\"Source after preprocessing (one-hot):\", X_oh[index])\n",
    "print(\"Target after preprocessing (one-hot):\", y_oh[index])"
   ]
  },
  {
   "cell_type": "markdown",
   "metadata": {},
   "source": [
    "### RNN Auto-Encoder with Attention"
   ]
  },
  {
   "cell_type": "markdown",
   "metadata": {},
   "source": [
    "The model is illustrated as follow:\n",
    "\n",
    "<img src=\"https://github.com/GSimas/Deep-LearningAI/blob/master/Course%205/Week%203/Neural%20Machine%20Translation/images/attn_model.png?raw=true\" alt=\"Drawing\" style=\"width: 650px;\"/>\n",
    "\n",
    "And now let's implement it."
   ]
  },
  {
   "cell_type": "code",
   "execution_count": 7,
   "metadata": {},
   "outputs": [],
   "source": [
    "from tensorflow.keras.layers import Bidirectional, Dense, Dropout\n",
    "from tfutils.initializer import GlorotInitializer\n",
    "\n",
    "if tf.test.is_gpu_available():\n",
    "    from tensorflow.keras.layers import CuDNNLSTM as LSTM\n",
    "else:\n",
    "    from tensorflow.keras.layers import LSTM    \n",
    "\n",
    "\n",
    "class Attention(BaseAttention):\n",
    "  \n",
    "  def __init__(self, energy_units, **kwargs):\n",
    "    super().__init__(**kwargs)\n",
    "    self._layers = []\n",
    "    for n in energy_units:\n",
    "      self._layers += [tf.layers.Dense(n, activation=tf.nn.relu),\n",
    "                       tf.layers.Dropout()]\n",
    "    self._layers += [tf.layers.Dense(1)]\n",
    "    \n",
    "  def energy(self, x):\n",
    "    with tf.name_scope('energy'):\n",
    "      for layer in self._layers:\n",
    "        x = layer(x)\n",
    "      return x\n",
    "\n",
    "\n",
    "def model_fn(features, labels, mode, params):\n",
    "  \"\"\"The `labels` is one-hot.\"\"\"\n",
    "  pre_rnn = Bidirectional(LSTM(params['pre_lstm_units'],\n",
    "                               return_sequences=True))\n",
    "  attention = Attention(params['energy_units'])\n",
    "  post_rnn = LSTM(params['post_lstm_units'],\n",
    "                  return_state=True)\n",
    "  # Returns the logits\n",
    "  output_layer = Dense(params['output_vocab_size'])\n",
    "\n",
    "  # [batch_size, post_lstm_units]\n",
    "  s = features['init_s']\n",
    "  c = features['init_c']\n",
    "  # [batch_size, input_seqlen, input_vocab_size]\n",
    "  onehot_inputs = features['onehot_inputs']\n",
    "  # [batch_size, input_seqlen, pre_lstm_units * 2]\n",
    "  a_seq = pre_rnn(onehot_inputs)\n",
    "\n",
    "  # Implements the loop\n",
    "  output_seqlen = tf.constant(params['output_seqlen'])\n",
    "  logits = tf.TensorArray(dtype=s.dtype, size=output_seqlen)\n",
    "  attention_scores = tf.TensorArray(dtype=s.dtype, size=output_seqlen)\n",
    "\n",
    "  def cond(logits, attention_scores, s, c, step):\n",
    "    return tf.less(step, output_seqlen)\n",
    "\n",
    "  def body(logits, attention_scores, s, c, step):\n",
    "    # [batch_size, input_seqlen] and\n",
    "    # [batch_size, pre_lstm_units * 2]\n",
    "    attention_score, context = attention(s, a_seq, a_seq)\n",
    "\n",
    "    with tf.name_scope('logit'):\n",
    "      # Prepare for inputting `post_rnn`\n",
    "      # [batch_size, 1, pre_lstm_units * 2]\n",
    "      context = tf.expand_dims(context, axis=-2)\n",
    "      # [batch_size, post_lstm_units]\n",
    "      s, _, c = post_rnn(context, initial_state=[s, c])\n",
    "      # [batch_size, output_vocab_size]\n",
    "      logit = output_layer(s)\n",
    "\n",
    "    logits = logits.write(step, logit)\n",
    "    attention_scores = attention_scores.write(step, attention_score)\n",
    "    return logits, attention_scores, s, c, (step + 1)\n",
    "  \n",
    "  logits, attention_scores, *_ = tf.while_loop(\n",
    "      cond, body, loop_vars=[logits, attention_scores, s, c, 0])\n",
    "\n",
    "  # Postprocess the TensorArray\n",
    "  # [output_seqlen, batch_size, output_vocab_size]\n",
    "  logits = logits.stack()\n",
    "  # [batch_size, output_seqlen, output_vocab_size]\n",
    "  logits = tf.transpose(logits, [1, 0, 2])\n",
    "  # [output_seqlen, batch_size, input_seqlen]\n",
    "  attention_scores = attention_scores.stack()\n",
    "  # [batch_size, output_seqlen, input_seqlen]\n",
    "  attention_scores = tf.transpose(attention_scores, [1, 0, 2])\n",
    "\n",
    "  # [batch_size, output_seqlen, output_vocab_size]\n",
    "  predict_probs = tf.nn.softmax(logits, axis=-1)\n",
    "  # [batch_size, output_seqlen]\n",
    "  predict_classes = tf.argmax(logits, axis=-1)\n",
    "  if mode == tf.estimator.ModeKeys.PREDICT:\n",
    "    predictions = {\n",
    "        'logits': logits,\n",
    "        'probs': predict_probs,\n",
    "        'class_ids': predict_classes,\n",
    "        'attention_scores': attention_scores,\n",
    "    }\n",
    "    return tf.estimator.EstimatorSpec(mode, predictions=predictions)\n",
    "\n",
    "  loss = tf.losses.softmax_cross_entropy(labels, logits)\n",
    "  \n",
    "  # [batch_size, output_seqlen]\n",
    "  label_classes = tf.argmax(labels, axis=-1)\n",
    "  accuracy = tf.metrics.accuracy(\n",
    "      label_classes, predict_classes, name='acc_op')\n",
    "  metrics = {'accuracy': accuracy}\n",
    "  if mode == tf.estimator.ModeKeys.EVAL:\n",
    "    return tf.estimator.EstimatorSpec(\n",
    "        mode, loss=loss, eval_metric_ops=metrics)\n",
    "\n",
    "  assert mode == tf.estimator.ModeKeys.TRAIN\n",
    "  optimizer = tf.train.AdamOptimizer(params['lr'])\n",
    "  train_op = optimizer.minimize(loss, global_step=tf.train.get_global_step())\n",
    "  return tf.estimator.EstimatorSpec(mode, loss=loss, train_op=train_op)"
   ]
  },
  {
   "cell_type": "code",
   "execution_count": 8,
   "metadata": {},
   "outputs": [
    {
     "name": "stdout",
     "output_type": "stream",
     "text": [
      "INFO:tensorflow:Using default config.\n",
      "WARNING:tensorflow:Using temporary folder as model directory: /tmp/tmp4n0pb66v\n",
      "INFO:tensorflow:Using config: {'_model_dir': '/tmp/tmp4n0pb66v', '_tf_random_seed': None, '_save_summary_steps': 100, '_save_checkpoints_steps': None, '_save_checkpoints_secs': 600, '_session_config': allow_soft_placement: true\n",
      "graph_options {\n",
      "  rewrite_options {\n",
      "    meta_optimizer_iterations: ONE\n",
      "  }\n",
      "}\n",
      ", '_keep_checkpoint_max': 5, '_keep_checkpoint_every_n_hours': 10000, '_log_step_count_steps': 100, '_train_distribute': None, '_device_fn': None, '_protocol': None, '_eval_distribute': None, '_experimental_distribute': None, '_service': None, '_cluster_spec': <tensorflow.python.training.server_lib.ClusterSpec object at 0x7fc45ae1ecc0>, '_task_type': 'worker', '_task_id': 0, '_global_id_in_cluster': 0, '_master': '', '_evaluation_master': '', '_is_chief': True, '_num_ps_replicas': 0, '_num_worker_replicas': 1}\n",
      "\n",
      " {'lr': 0.05, 'output_vocab_size': 11, 'pre_lstm_units': 32, 'energy_units': [128], 'post_lstm_units': 64, 'output_seqlen': 10}\n"
     ]
    }
   ],
   "source": [
    "tf.reset_default_graph()\n",
    "\n",
    "params={\n",
    "    'lr': 0.05,\n",
    "    'output_vocab_size': y_oh.shape[-1],\n",
    "    'pre_lstm_units': 32,\n",
    "    'energy_units': [128],\n",
    "    'post_lstm_units': 64,\n",
    "    'output_seqlen': y_oh.shape[-2],\n",
    "}\n",
    "\n",
    "estimator = tf.estimator.Estimator(model_fn=model_fn,\n",
    "                                   params=params)\n",
    "\n",
    "print('\\n', params)"
   ]
  },
  {
   "cell_type": "markdown",
   "metadata": {},
   "source": [
    "### Train and Evaluate the Model"
   ]
  },
  {
   "cell_type": "code",
   "execution_count": 9,
   "metadata": {},
   "outputs": [],
   "source": [
    "def train_input_fn(X_oh, y_oh, init_s, init_c, batch_size):\n",
    "    \"\"\"An input function for training\"\"\"\n",
    "    features = {'onehot_inputs': X_oh, 'init_s': init_s, 'init_c': init_c}\n",
    "    dataset = tf.data.Dataset.from_tensor_slices((features, y_oh))\n",
    "    dataset = dataset.shuffle(1000).repeat().batch(batch_size)\n",
    "    return dataset\n",
    "\n",
    "\n",
    "def eval_input_fn(X_oh, y_oh, init_s, init_c, batch_size):\n",
    "    \"\"\"An input function for evaluating and predicting.\"\"\"\n",
    "    features = {'onehot_inputs': X_oh, 'init_s': init_s, 'init_c': init_c}\n",
    "    if y_oh is None:\n",
    "        dataset = tf.data.Dataset.from_tensor_slices(features)\n",
    "    else:\n",
    "        dataset = tf.data.Dataset.from_tensor_slices((features, y_oh))\n",
    "    dataset = dataset.batch(batch_size)  # shall NOT shuffle and repeat!\n",
    "    return dataset\n",
    "  \n",
    "  \n",
    "def get_inits(n_data, params):\n",
    "    init_s = np.zeros([n_data, params['post_lstm_units']], dtype='float32')\n",
    "    init_c = np.zeros([n_data, params['post_lstm_units']], dtype='float32')\n",
    "    return init_s, init_c"
   ]
  },
  {
   "cell_type": "code",
   "execution_count": 10,
   "metadata": {},
   "outputs": [],
   "source": [
    "from sklearn.model_selection import train_test_split\n",
    "\n",
    "X_train, X_test, y_train, y_test = train_test_split(X_oh, y_oh)"
   ]
  },
  {
   "cell_type": "code",
   "execution_count": 11,
   "metadata": {},
   "outputs": [
    {
     "name": "stdout",
     "output_type": "stream",
     "text": [
      "INFO:tensorflow:Calling model_fn.\n",
      "INFO:tensorflow:Done calling model_fn.\n",
      "INFO:tensorflow:Create CheckpointSaverHook.\n",
      "INFO:tensorflow:Graph was finalized.\n",
      "INFO:tensorflow:Running local_init_op.\n",
      "INFO:tensorflow:Done running local_init_op.\n",
      "INFO:tensorflow:Saving checkpoints for 0 into /tmp/tmp4n0pb66v/model.ckpt.\n",
      "INFO:tensorflow:loss = 2.4025064, step = 0\n",
      "INFO:tensorflow:global_step/sec: 29.869\n",
      "INFO:tensorflow:loss = 0.8244829, step = 100 (3.349 sec)\n",
      "INFO:tensorflow:global_step/sec: 37.2547\n",
      "INFO:tensorflow:loss = 0.14884116, step = 200 (2.684 sec)\n",
      "INFO:tensorflow:global_step/sec: 36.8435\n",
      "INFO:tensorflow:loss = 0.007106445, step = 300 (2.714 sec)\n",
      "INFO:tensorflow:global_step/sec: 36.9819\n",
      "INFO:tensorflow:loss = 0.0022480497, step = 400 (2.704 sec)\n",
      "INFO:tensorflow:global_step/sec: 37.013\n",
      "INFO:tensorflow:loss = 0.01661434, step = 500 (2.702 sec)\n",
      "INFO:tensorflow:global_step/sec: 36.7233\n",
      "INFO:tensorflow:loss = 0.010409214, step = 600 (2.723 sec)\n",
      "INFO:tensorflow:global_step/sec: 37.1102\n",
      "INFO:tensorflow:loss = 0.0004800958, step = 700 (2.695 sec)\n",
      "INFO:tensorflow:global_step/sec: 37.3363\n",
      "INFO:tensorflow:loss = 0.0002672929, step = 800 (2.678 sec)\n",
      "INFO:tensorflow:global_step/sec: 37.0686\n",
      "INFO:tensorflow:loss = 0.00021186155, step = 900 (2.697 sec)\n",
      "INFO:tensorflow:global_step/sec: 37.1654\n",
      "INFO:tensorflow:loss = 0.00016926658, step = 1000 (2.691 sec)\n",
      "INFO:tensorflow:global_step/sec: 37.1934\n",
      "INFO:tensorflow:loss = 0.00012913694, step = 1100 (2.689 sec)\n",
      "INFO:tensorflow:global_step/sec: 37.3581\n",
      "INFO:tensorflow:loss = 0.00011296556, step = 1200 (2.677 sec)\n",
      "INFO:tensorflow:global_step/sec: 37.5765\n",
      "INFO:tensorflow:loss = 9.1343e-05, step = 1300 (2.661 sec)\n",
      "INFO:tensorflow:global_step/sec: 37.1447\n",
      "INFO:tensorflow:loss = 9.197992e-05, step = 1400 (2.692 sec)\n",
      "INFO:tensorflow:global_step/sec: 37.2682\n",
      "INFO:tensorflow:loss = 7.716995e-05, step = 1500 (2.683 sec)\n",
      "INFO:tensorflow:global_step/sec: 37.1961\n",
      "INFO:tensorflow:loss = 6.858538e-05, step = 1600 (2.689 sec)\n",
      "INFO:tensorflow:global_step/sec: 37.334\n",
      "INFO:tensorflow:loss = 6.3208936e-05, step = 1700 (2.679 sec)\n",
      "INFO:tensorflow:global_step/sec: 37.3852\n",
      "INFO:tensorflow:loss = 5.7119392e-05, step = 1800 (2.675 sec)\n",
      "INFO:tensorflow:global_step/sec: 37.4743\n",
      "INFO:tensorflow:loss = 5.7584162e-05, step = 1900 (2.668 sec)\n",
      "INFO:tensorflow:Saving checkpoints for 2000 into /tmp/tmp4n0pb66v/model.ckpt.\n",
      "INFO:tensorflow:Loss for final step: 4.364942e-05.\n"
     ]
    },
    {
     "data": {
      "text/plain": [
       "<tensorflow.python.estimator.estimator.Estimator at 0x7fc45ae1ecf8>"
      ]
     },
     "execution_count": 11,
     "metadata": {},
     "output_type": "execute_result"
    }
   ],
   "source": [
    "init_s, init_c = get_inits(X_train.shape[0], params)\n",
    "estimator.train(\n",
    "    input_fn=lambda: train_input_fn(X_train, y_train, init_s, init_c, 100),\n",
    "    steps=2000)"
   ]
  },
  {
   "cell_type": "code",
   "execution_count": 12,
   "metadata": {},
   "outputs": [
    {
     "name": "stdout",
     "output_type": "stream",
     "text": [
      "INFO:tensorflow:Calling model_fn.\n",
      "INFO:tensorflow:Done calling model_fn.\n",
      "INFO:tensorflow:Starting evaluation at 2019-04-12-09:31:08\n",
      "INFO:tensorflow:Graph was finalized.\n",
      "INFO:tensorflow:Restoring parameters from /tmp/tmp4n0pb66v/model.ckpt-2000\n",
      "INFO:tensorflow:Running local_init_op.\n",
      "INFO:tensorflow:Done running local_init_op.\n",
      "INFO:tensorflow:Finished evaluation at 2019-04-12-09:31:09\n",
      "INFO:tensorflow:Saving dict for global step 2000: accuracy = 1.0, global_step = 2000, loss = 4.37774e-05\n",
      "INFO:tensorflow:Saving 'checkpoint_path' summary for global step 2000: /tmp/tmp4n0pb66v/model.ckpt-2000\n"
     ]
    },
    {
     "data": {
      "text/plain": [
       "{'accuracy': 1.0, 'loss': 4.37774e-05, 'global_step': 2000}"
      ]
     },
     "execution_count": 12,
     "metadata": {},
     "output_type": "execute_result"
    }
   ],
   "source": [
    "init_s, init_c = get_inits(X_test.shape[0], params)\n",
    "estimator.evaluate(input_fn=lambda: eval_input_fn(\n",
    "    X_test, y_test, init_s, init_c, batch_size=128))"
   ]
  },
  {
   "cell_type": "markdown",
   "metadata": {},
   "source": [
    "### It Works"
   ]
  },
  {
   "cell_type": "code",
   "execution_count": 13,
   "metadata": {},
   "outputs": [],
   "source": [
    "from typing import List, Dict\n",
    "\n",
    "\n",
    "def pad(input_seqlen: int,\n",
    "        chars: List[str],\n",
    "        ) -> List[str]:\n",
    "    chars = chars[:input_seqlen]\n",
    "    chars += ['<pad>'] * (input_seqlen - len(chars))\n",
    "    return chars\n",
    "  \n",
    "\n",
    "def unk(input_vocab: Dict[str, int],\n",
    "        chars: List[str],\n",
    "        ) -> List[str]:\n",
    "    chars = [c if c in input_vocab else '<unk>' for c in chars]\n",
    "    return chars\n",
    "  \n",
    "  \n",
    "def onehot(input_vocab: Dict[str, int],\n",
    "           chars: List[str],\n",
    "           ) -> List[List[int]]:\n",
    "    # To indices\n",
    "    indices = [input_vocab[c] for c in chars]\n",
    "    # To onehot, shape `[input_seqlen, input_vocab_size]`\n",
    "    return [[1 if i == index else 0 for i, _ in enumerate(input_vocab)]\n",
    "            for index in indices]\n",
    "\n",
    "\n",
    "def preprocess_sources(sources: List[str],\n",
    "                       input_seqlen: int,\n",
    "                       input_vocab: Dict[str, int]\n",
    "                       ) -> np.array:\n",
    "\n",
    "    def preprocess_source(source: str) -> List[List[int]]:\n",
    "        chars = [c for c in source.lower()]\n",
    "        chars = unk(input_vocab, chars)\n",
    "        chars = pad(input_seqlen, chars)\n",
    "        return onehot(input_vocab, chars)\n",
    "\n",
    "    # [len(sources), input_seqlen, input_vocab_size]\n",
    "    return np.array([preprocess_source(_) for _ in sources],\n",
    "                    dtype='float32')\n",
    "\n",
    "\n",
    "def postprocess(sources: List[str], predictions: dict) -> List[dict]:\n",
    "    all_processed = []\n",
    "    for src, pred in zip(sources, predictions):\n",
    "        prediction = ''.join(inv_machine_vocab[_] for _ in pred['class_ids'])    \n",
    "        processed = {\n",
    "            'source': src,\n",
    "            'prediction': prediction,\n",
    "            'attention_scores': pred['attention_scores'],\n",
    "            'logits': pred['logits']\n",
    "        }\n",
    "        all_processed.append(processed)\n",
    "    return all_processed"
   ]
  },
  {
   "cell_type": "code",
   "execution_count": 14,
   "metadata": {},
   "outputs": [
    {
     "name": "stdout",
     "output_type": "stream",
     "text": [
      "INFO:tensorflow:Calling model_fn.\n",
      "INFO:tensorflow:Done calling model_fn.\n",
      "INFO:tensorflow:Graph was finalized.\n",
      "INFO:tensorflow:Restoring parameters from /tmp/tmp4n0pb66v/model.ckpt-2000\n",
      "INFO:tensorflow:Running local_init_op.\n",
      "INFO:tensorflow:Done running local_init_op.\n",
      "3 May 2079\n",
      "2979-05-03\n",
      "\n",
      "5 April 09\n",
      "2009-04-05\n",
      "\n",
      "21th of August 2016\n",
      "2016-08-21\n",
      "\n",
      "Tue 10 Jul 2007\n",
      "2007-07-10\n",
      "\n",
      "Saturday May 9 2018\n",
      "2018-05-09\n",
      "\n",
      "March 3 2001\n",
      "2001-03-03\n",
      "\n",
      "March 3rd 2001\n",
      "2001-03-03\n",
      "\n",
      "1 March 2001\n",
      "2001-03-01\n",
      "\n"
     ]
    }
   ],
   "source": [
    "sources = [\n",
    "  '3 May 2079', '5 April 09', '21th of August 2016', 'Tue 10 Jul 2007',\n",
    "  'Saturday May 9 2018', 'March 3 2001', 'March 3rd 2001', '1 March 2001'\n",
    "]\n",
    "\n",
    "X_oh_pred = preprocess_sources(sources, X_oh.shape[-2], human_vocab)\n",
    "n_data_pred = X_oh_pred.shape[0]\n",
    "input_seqlen = X_oh_pred.shape[1]\n",
    "init_s_pred, init_c_pred = get_inits(len(sources), params)\n",
    "predicted = estimator.predict(input_fn=lambda: eval_input_fn(\n",
    "    X_oh_pred, None, init_s_pred, init_c_pred, batch_size=128))\n",
    "predictions = postprocess(sources, predicted)\n",
    "\n",
    "for src, pred in zip(sources, predictions):\n",
    "  print(src)\n",
    "  print(pred['prediction'])\n",
    "  print()"
   ]
  },
  {
   "cell_type": "markdown",
   "metadata": {},
   "source": [
    "## Why Attention"
   ]
  },
  {
   "cell_type": "markdown",
   "metadata": {},
   "source": [
    "The attention has one advantage that almost any other NN architecture absents, that is, the explainability!"
   ]
  },
  {
   "cell_type": "code",
   "execution_count": 15,
   "metadata": {},
   "outputs": [],
   "source": [
    "import matplotlib.pyplot as plt\n",
    "from typing import List\n",
    "\n",
    "def plot_attention(attention: np.array,\n",
    "                   source: str,\n",
    "                   prediction: str,\n",
    "                   figsize=(7, 7)):\n",
    "    \n",
    "    def preprocess(s: str) -> List[str]:\n",
    "      return ['*' if c == ' ' else c for c in s.lower()]\n",
    "    \n",
    "    source = preprocess(source)\n",
    "    prediction = preprocess(prediction)\n",
    "    attention = attention[:len(prediction), :len(source)]\n",
    "    fig = plt.figure(figsize=figsize)\n",
    "    ax = fig.add_subplot(1, 1, 1)\n",
    "    ax.matshow(attention, cmap='viridis')\n",
    "    \n",
    "    # Set axes\n",
    "    fontdict = {'fontsize': 12}\n",
    "    ax.set_xticks(range(0, len(source)))\n",
    "    ax.set_xticklabels(source, fontdict=fontdict)\n",
    "    ax.set_yticks(range(0, len(prediction)))\n",
    "    ax.set_yticklabels(prediction, fontdict=fontdict)\n",
    "\n",
    "    plt.show()"
   ]
  },
  {
   "cell_type": "code",
   "execution_count": 16,
   "metadata": {
    "scrolled": false
   },
   "outputs": [
    {
     "data": {
      "image/png": "[encoded data removed]",
      "text/plain": [
       "<Figure size 504x504 with 1 Axes>"
      ]
     },
     "metadata": {
      "needs_background": "light"
     },
     "output_type": "display_data"
    },
    {
     "data": {
      "image/png": "[encoded data removed]",
      "text/plain": [
       "<Figure size 504x504 with 1 Axes>"
      ]
     },
     "metadata": {
      "needs_background": "light"
     },
     "output_type": "display_data"
    },
    {
     "data": {
      "image/png": "[encoded data removed]",
      "text/plain": [
       "<Figure size 504x504 with 1 Axes>"
      ]
     },
     "metadata": {
      "needs_background": "light"
     },
     "output_type": "display_data"
    },
    {
     "data": {
      "image/png": "[encoded data removed]",
      "text/plain": [
       "<Figure size 504x504 with 1 Axes>"
      ]
     },
     "metadata": {
      "needs_background": "light"
     },
     "output_type": "display_data"
    },
    {
     "data": {
      "image/png": "[encoded data removed]",
      "text/plain": [
       "<Figure size 504x504 with 1 Axes>"
      ]
     },
     "metadata": {
      "needs_background": "light"
     },
     "output_type": "display_data"
    },
    {
     "data": {
      "image/png": "[encoded data removed]",
      "text/plain": [
       "<Figure size 504x504 with 1 Axes>"
      ]
     },
     "metadata": {
      "needs_background": "light"
     },
     "output_type": "display_data"
    },
    {
     "data": {
      "image/png": "[encoded data removed]",
      "text/plain": [
       "<Figure size 504x504 with 1 Axes>"
      ]
     },
     "metadata": {
      "needs_background": "light"
     },
     "output_type": "display_data"
    },
    {
     "data": {
      "image/png": "[encoded data removed]",
      "text/plain": [
       "<Figure size 504x504 with 1 Axes>"
      ]
     },
     "metadata": {
      "needs_background": "light"
     },
     "output_type": "display_data"
    }
   ],
   "source": [
    "for pred in predictions:\n",
    "    plot_attention(pred['attention_scores'], pred['source'], pred['prediction'])"
   ]
  },
  {
   "cell_type": "markdown",
   "metadata": {
    "scrolled": false
   },
   "source": [
    "The bi-LSTM mixes the characters in neighbour together because of its bi-directional memory, so in these plots, shifting exists."
   ]
  },
  {
   "cell_type": "code",
   "execution_count": null,
   "metadata": {},
   "outputs": [],
   "source": []
  }
 ],
 "metadata": {
  "kernelspec": {
   "display_name": "Python 3",
   "language": "python",
   "name": "python3"
  },
  "language_info": {
   "codemirror_mode": {
    "name": "ipython",
    "version": 3
   },
   "file_extension": ".py",
   "mimetype": "text/x-python",
   "name": "python",
   "nbconvert_exporter": "python",
   "pygments_lexer": "ipython3",
   "version": "3.6.8"
  }
 },
 "nbformat": 4,
 "nbformat_minor": 2
}
